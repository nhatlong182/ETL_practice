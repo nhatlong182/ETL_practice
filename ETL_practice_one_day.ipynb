{
 "cells": [
  {
   "cell_type": "code",
   "execution_count": 24,
   "metadata": {},
   "outputs": [],
   "source": [
    "from pyspark.sql.session import SparkSession\r\n",
    "from pyspark.sql.functions import *"
   ]
  },
  {
   "cell_type": "code",
   "execution_count": 7,
   "metadata": {},
   "outputs": [],
   "source": [
    "def get_spark_session():    \r\n",
    "    spark = SparkSession.builder\\\r\n",
    "                        .config('spark.driver.memory', '4g')\\\r\n",
    "                        .config('spark.driver.cores', '2')\\\r\n",
    "                        .config('spark.executor.memory', '4g')\\\r\n",
    "                        .config('spark.executor.cores', '2')\\\r\n",
    "                        .getOrCreate()\r\n",
    "    return spark\r\n",
    "\r\n",
    "spark = get_spark_session()"
   ]
  },
  {
   "cell_type": "code",
   "execution_count": 8,
   "metadata": {},
   "outputs": [],
   "source": [
    "path = 'D:\\DE-class\\data\\log_content'\r\n",
    "start_date = '2022-04-01'\r\n",
    "end_date = '2022-04-04'"
   ]
  },
  {
   "cell_type": "code",
   "execution_count": 9,
   "metadata": {},
   "outputs": [],
   "source": [
    "df = spark.read.json(path + '\\\\20220401.json')"
   ]
  },
  {
   "cell_type": "code",
   "execution_count": 10,
   "metadata": {},
   "outputs": [
    {
     "name": "stdout",
     "output_type": "stream",
     "text": [
      "+-------+---------+------------+-------------+\n",
      "|AppName| Contract|         Mac|TotalDuration|\n",
      "+-------+---------+------------+-------------+\n",
      "|  KPLUS|HNH579912|0C96E62FC55C|          254|\n",
      "|  KPLUS|HUFD40665|CCEDDC333614|         1457|\n",
      "|  KPLUS|HNH572635|B068E6A1C5F6|         2318|\n",
      "|  KPLUS|HND141717|08674EE8D2C2|         1452|\n",
      "|  KPLUS|HNH743103|402343C25D7D|          251|\n",
      "|  KPLUS|HNH893773|B84DEE76D3B8|          924|\n",
      "|  KPLUS|HND083642|B84DEE849A0F|         1444|\n",
      "|  KPLUS|DNFD74404|90324BB44C39|          691|\n",
      "|  KPLUS|DTFD21200|B84DEED27709|         1436|\n",
      "|  KPLUS|LDFD05747|0C96E6C95E53|         1434|\n",
      "|  KPLUS|HNH063566|B84DEEDD1C85|          687|\n",
      "|  KPLUS|HNH866786|10394E2790A5|          248|\n",
      "|  KPLUS|NBAAA1128|10394E47C1AF|          247|\n",
      "|  KPLUS|HNH960439|B84DEED34371|          683|\n",
      "|  KPLUS|HNJ035736|CCD4A1FA86A5|          246|\n",
      "|  KPLUS|NTFD93673|B84DEEEF4763|         2288|\n",
      "|  KPLUS|HNJ063267|10394E172CA7|         2282|\n",
      "|  KPLUS|HNH790383|4CEBBD53378B|          906|\n",
      "|  KPLUS|THFD12466|5CEA1D893E1C|          242|\n",
      "|  KPLUS|HNH566080|802BF9E0DDC0|          242|\n",
      "+-------+---------+------------+-------------+\n",
      "only showing top 20 rows\n",
      "\n"
     ]
    }
   ],
   "source": [
    "df.select('_source.*').show()"
   ]
  },
  {
   "cell_type": "code",
   "execution_count": 11,
   "metadata": {},
   "outputs": [],
   "source": [
    "source_df = df.select('_source.*')"
   ]
  },
  {
   "cell_type": "code",
   "execution_count": 12,
   "metadata": {},
   "outputs": [
    {
     "name": "stdout",
     "output_type": "stream",
     "text": [
      "+-------+\n",
      "|AppName|\n",
      "+-------+\n",
      "|  KPLUS|\n",
      "|  RELAX|\n",
      "|  CHILD|\n",
      "|   FIMS|\n",
      "|CHANNEL|\n",
      "|  SPORT|\n",
      "|    VOD|\n",
      "+-------+\n",
      "\n"
     ]
    }
   ],
   "source": [
    "source_df.select('AppName').distinct().show()"
   ]
  },
  {
   "cell_type": "code",
   "execution_count": 13,
   "metadata": {},
   "outputs": [
    {
     "data": {
      "text/plain": [
       "1654519"
      ]
     },
     "execution_count": 13,
     "metadata": {},
     "output_type": "execute_result"
    }
   ],
   "source": [
    "source_df.count()"
   ]
  },
  {
   "cell_type": "code",
   "execution_count": 14,
   "metadata": {},
   "outputs": [],
   "source": [
    "source_df = source_df.withColumn(\"Type\",\r\n",
    "           when((col(\"AppName\") == 'CHANNEL') | (col(\"AppName\") =='KPLUS') | (col(\"AppName\") =='KPlus'), \"Truyền Hình\")\r\n",
    "          .when((col(\"AppName\") == 'VOD') | (col(\"AppName\") =='FIMS'), \"Phim Truyện\")\r\n",
    "          .when((col(\"AppName\") == 'RELAX'), \"Giải Trí\")\r\n",
    "          .when((col(\"AppName\") == 'CHILD'), \"Thiếu Nhi\")\r\n",
    "          .when((col(\"AppName\") == 'SPORT'), \"Thể Thao\")\r\n",
    "          .otherwise(\"Error\"))\r\n"
   ]
  },
  {
   "cell_type": "code",
   "execution_count": 15,
   "metadata": {},
   "outputs": [],
   "source": [
    "source_df = source_df.select('Contract','Type','TotalDuration')"
   ]
  },
  {
   "cell_type": "code",
   "execution_count": 16,
   "metadata": {},
   "outputs": [],
   "source": [
    "source_df = source_df.filter(col('Contract') != '0')\r\n",
    "source_df = source_df.filter(source_df.Type != 'Error')"
   ]
  },
  {
   "cell_type": "code",
   "execution_count": 17,
   "metadata": {},
   "outputs": [],
   "source": [
    "source_df = source_df.groupBy('Contract','Type').sum('TotalDuration').withColumnRenamed('sum(TotalDuration)','TotalDuration')"
   ]
  },
  {
   "cell_type": "code",
   "execution_count": 18,
   "metadata": {},
   "outputs": [
    {
     "name": "stdout",
     "output_type": "stream",
     "text": [
      "+---------+-----------+-------------+\n",
      "| Contract|       Type|TotalDuration|\n",
      "+---------+-----------+-------------+\n",
      "|DNH014998|Phim Truyện|         3365|\n",
      "|HND486882|Phim Truyện|         5545|\n",
      "|HUFD07189|Truyền Hình|         2264|\n",
      "|HDFD36288|Truyền Hình|        11904|\n",
      "|CTFD04401|Truyền Hình|        55881|\n",
      "|HNH954607|Phim Truyện|        13115|\n",
      "|HNH855959|Truyền Hình|          327|\n",
      "|SGH034683|Truyền Hình|        82195|\n",
      "|NTFD35330|Truyền Hình|        19139|\n",
      "|NTFD48198|Phim Truyện|        55202|\n",
      "|HNH443856|Truyền Hình|         7687|\n",
      "|NAFD05338|Truyền Hình|        81934|\n",
      "|LCFD20510|Phim Truyện|        10852|\n",
      "|QNFD29007|Truyền Hình|        82705|\n",
      "|SGH569599|Truyền Hình|        18769|\n",
      "|SGH701752|Truyền Hình|        31028|\n",
      "|HNH712164|Phim Truyện|         6106|\n",
      "|PYFD01920|Truyền Hình|        82664|\n",
      "|HTFD13716|Truyền Hình|        18759|\n",
      "|SGJ039473|Truyền Hình|        18695|\n",
      "+---------+-----------+-------------+\n",
      "only showing top 20 rows\n",
      "\n"
     ]
    }
   ],
   "source": [
    "source_df.show()"
   ]
  },
  {
   "cell_type": "code",
   "execution_count": 19,
   "metadata": {},
   "outputs": [],
   "source": [
    "pivotDF = source_df.groupBy(\"Contract\").pivot(\"Type\").sum(\"TotalDuration\")\\\r\n",
    "  .withColumnRenamed(\"Truyền Hình\", 'TVDuration')\\\r\n",
    "  .withColumnRenamed(\"Thể Thao\", 'SportDuration')\\\r\n",
    "  .withColumnRenamed(\"Thiếu Nhi\", 'ChildDuration')\\\r\n",
    "  .withColumnRenamed(\"Giải Trí\", 'RelaxDuration')\\\r\n",
    "  .withColumnRenamed(\"Phim Truyện\", 'MovieDuration')"
   ]
  },
  {
   "cell_type": "code",
   "execution_count": 20,
   "metadata": {},
   "outputs": [
    {
     "name": "stdout",
     "output_type": "stream",
     "text": [
      "+---------+-------------+-------------+-------------+-------------+----------+\n",
      "| Contract|RelaxDuration|MovieDuration|ChildDuration|SportDuration|TVDuration|\n",
      "+---------+-------------+-------------+-------------+-------------+----------+\n",
      "|HTFD11598|         null|         2884|         null|         null|       707|\n",
      "|HPFD48556|           69|         null|         null|         null|     92976|\n",
      "|NBFD10014|         null|         null|         null|         null|     84628|\n",
      "|HNH619088|         null|         8456|          234|         null|     65210|\n",
      "|HNH036174|         null|         null|         null|         null|      6049|\n",
      "|DNH067877|         null|         null|         null|         null|      5760|\n",
      "|SGH806190|         null|         null|         null|         null|      1131|\n",
      "|HNH582022|         null|         null|         null|         null|     86400|\n",
      "|HNH795510|         null|         5840|         null|         null|     68589|\n",
      "|DNFD91557|         null|         null|         null|         null|      1640|\n",
      "|SGH266908|         null|         null|         null|         null|       731|\n",
      "|HNJ102653|         null|         null|         null|         null|      4586|\n",
      "|BDH045313|         null|         null|         null|         null|      1638|\n",
      "|HNH630470|         null|         4220|         null|         null|     70725|\n",
      "|VPD008902|         null|         null|         null|         null|     13585|\n",
      "|QNFD93210|         null|         null|         null|         null|       952|\n",
      "|HNH237714|         null|         null|         null|         null|     11254|\n",
      "|DLFD29419|         null|         7046|         null|         null|      4263|\n",
      "|HNH488834|           49|         null|         null|         null|      1504|\n",
      "|HUD019330|         null|        10409|         6412|           11|       637|\n",
      "+---------+-------------+-------------+-------------+-------------+----------+\n",
      "only showing top 20 rows\n",
      "\n"
     ]
    }
   ],
   "source": [
    "pivotDF.show()"
   ]
  },
  {
   "cell_type": "code",
   "execution_count": 21,
   "metadata": {},
   "outputs": [],
   "source": [
    "result = pivotDF.fillna(0)"
   ]
  },
  {
   "cell_type": "code",
   "execution_count": 22,
   "metadata": {},
   "outputs": [],
   "source": [
    "result = result.withColumn('Date',lit('2022-04-01'))"
   ]
  },
  {
   "cell_type": "code",
   "execution_count": 23,
   "metadata": {},
   "outputs": [
    {
     "name": "stdout",
     "output_type": "stream",
     "text": [
      "+---------+-------------+-------------+-------------+-------------+----------+----------+\n",
      "|Contract |RelaxDuration|MovieDuration|ChildDuration|SportDuration|TVDuration|Date      |\n",
      "+---------+-------------+-------------+-------------+-------------+----------+----------+\n",
      "|HTFD11598|0            |2884         |0            |0            |707       |2022-04-01|\n",
      "|HPFD48556|69           |0            |0            |0            |92976     |2022-04-01|\n",
      "|NBFD10014|0            |0            |0            |0            |84628     |2022-04-01|\n",
      "|HNH619088|0            |8456         |234          |0            |65210     |2022-04-01|\n",
      "|HNH036174|0            |0            |0            |0            |6049      |2022-04-01|\n",
      "|DNH067877|0            |0            |0            |0            |5760      |2022-04-01|\n",
      "|SGH806190|0            |0            |0            |0            |1131      |2022-04-01|\n",
      "|HNH582022|0            |0            |0            |0            |86400     |2022-04-01|\n",
      "|HNH795510|0            |5840         |0            |0            |68589     |2022-04-01|\n",
      "|DNFD91557|0            |0            |0            |0            |1640      |2022-04-01|\n",
      "+---------+-------------+-------------+-------------+-------------+----------+----------+\n",
      "only showing top 10 rows\n",
      "\n"
     ]
    }
   ],
   "source": [
    "result.show(10, truncate=False)"
   ]
  },
  {
   "cell_type": "code",
   "execution_count": null,
   "metadata": {},
   "outputs": [],
   "source": []
  }
 ],
 "metadata": {
  "interpreter": {
   "hash": "2ccb01cee79baa4fd3c3af014ac321d0f97006058e5ad97497401216ebeb6b54"
  },
  "kernelspec": {
   "display_name": "Python 3.11.4 64-bit",
   "name": "python3"
  },
  "language_info": {
   "codemirror_mode": {
    "name": "ipython",
    "version": 3
   },
   "file_extension": ".py",
   "mimetype": "text/x-python",
   "name": "python",
   "nbconvert_exporter": "python",
   "pygments_lexer": "ipython3",
   "version": "3.11.4"
  },
  "orig_nbformat": 4
 },
 "nbformat": 4,
 "nbformat_minor": 2
}