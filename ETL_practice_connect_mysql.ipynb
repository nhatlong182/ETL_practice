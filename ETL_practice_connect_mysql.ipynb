{
 "cells": [
  {
   "cell_type": "code",
   "execution_count": 1,
   "metadata": {},
   "outputs": [],
   "source": [
    "from pyspark.sql import SparkSession\r\n",
    "from pyspark.sql import SQLContext\r\n",
    "from pyspark.sql.functions import when\r\n",
    "from pyspark.sql.functions import col\r\n",
    "from pyspark.sql.types import * \r\n",
    "from pyspark.sql.functions import lit\r\n",
    "# import pyodbc\r\n",
    "import pandas as pd\r\n",
    "import pyspark.sql.functions as sf\r\n"
   ]
  },
  {
   "cell_type": "code",
   "execution_count": 2,
   "metadata": {},
   "outputs": [],
   "source": [
    "spark = SparkSession.builder.config(\"spark.jars\", \"mysql-connector-java-8.0.30.jar\").getOrCreate()"
   ]
  },
  {
   "cell_type": "code",
   "execution_count": 3,
   "metadata": {},
   "outputs": [],
   "source": [
    "url = 'jdbc:mysql://' + 'localhost' + ':' + '3306' + '/' + 'summary_db'\r\n",
    "driver = \"com.mysql.cj.jdbc.Driver\"\r\n",
    "user = 'root'\r\n",
    "password = ''\r\n",
    "sql = '(select * from behavior) A'\r\n",
    "df = spark.read.format('jdbc').options(url = url , driver = driver , dbtable = sql , user=user , password = password).load()"
   ]
  },
  {
   "cell_type": "code",
   "execution_count": 4,
   "metadata": {},
   "outputs": [
    {
     "name": "stdout",
     "output_type": "stream",
     "text": [
      "+--------------+----------+-------------+-------------+-------------+-------------+-------------+-----------+-----------+-------+------------------+----------+--------+\n",
      "|      Contract|TVDuration|MovieDuration|RelaxDuration|ChildDuration|SportDuration|TotalDuration|latest_date|report_date|recency|       active_rate|most_watch|   taste|\n",
      "+--------------+----------+-------------+-------------+-------------+-------------+-------------+-----------+-----------+-------+------------------+----------+--------+\n",
      "|113.182.209.48|        63|            0|           89|            0|            0|          152| 2022-04-01| 2022-05-01|     30|3.3333333333333335|     Relax|TV Relax|\n",
      "+--------------+----------+-------------+-------------+-------------+-------------+-------------+-----------+-----------+-------+------------------+----------+--------+\n",
      "\n"
     ]
    }
   ],
   "source": [
    "df.show()"
   ]
  },
  {
   "cell_type": "code",
   "execution_count": 5,
   "metadata": {},
   "outputs": [],
   "source": [
    "df = spark.read.format('csv').option('header', 'true').load('Output_Data/part-00000-2dba57bb-80a6-4e41-bd6c-3cac356e9af5-c000.csv')"
   ]
  },
  {
   "cell_type": "code",
   "execution_count": 6,
   "metadata": {},
   "outputs": [
    {
     "name": "stdout",
     "output_type": "stream",
     "text": [
      "+--------------+----------+-------------+-------------+-------------+-------------+-------------+-----------+-----------+-------+------------------+----------+--------------+\n",
      "|      Contract|TVDuration|MovieDuration|RelaxDuration|ChildDuration|SportDuration|TotalDuration|latest_date|report_date|recency|       active_rate|most_watch|         taste|\n",
      "+--------------+----------+-------------+-------------+-------------+-------------+-------------+-----------+-----------+-------+------------------+----------+--------------+\n",
      "|113.182.209.48|        63|            0|           89|            0|            0|          152| 2022-04-01| 2022-05-01|     30|3.3333333333333335|     Relax|      TV Relax|\n",
      "|14.182.110.125|       404|            0|           92|            0|            0|          496| 2022-04-10| 2022-05-01|     21|3.3333333333333335|        TV|      TV Relax|\n",
      "|     AGAAA0338|    278633|            0|            0|            0|            0|       278633| 2022-04-30| 2022-05-01|      1|             100.0|        TV|            TV|\n",
      "|     AGAAA0342|    117788|            0|          204|            0|            0|       117992| 2022-04-30| 2022-05-01|      1|              40.0|        TV|      TV Relax|\n",
      "|     AGAAA0391|    158931|          129|          373|            0|            0|       159433| 2022-04-30| 2022-05-01|      1|36.666666666666664|        TV|TV Movie Relax|\n",
      "|     AGAAA0613|      9377|            0|           26|            0|            0|         9403| 2022-04-30| 2022-05-01|      1|              80.0|        TV|      TV Relax|\n",
      "|     AGAAA0638|    227016|            0|            0|            0|            0|       227016| 2022-04-30| 2022-05-01|      1|             100.0|        TV|            TV|\n",
      "|     AGAAA0692|    107057|            0|            0|            0|            0|       107057| 2022-04-29| 2022-05-01|      2|26.666666666666668|        TV|            TV|\n",
      "|     AGAAA0723|      9279|            0|            0|            0|            0|         9279| 2022-04-29| 2022-05-01|      2| 63.33333333333333|        TV|            TV|\n",
      "|     AGAAA0729|    161781|            0|            0|            0|            0|       161781| 2022-04-15| 2022-05-01|     16|              10.0|        TV|            TV|\n",
      "|     AGAAA0732|     99030|          463|            0|            0|            0|        99493| 2022-04-28| 2022-05-01|      3| 76.66666666666667|        TV|      TV Movie|\n",
      "|     AGAAA0750|    525708|            0|            0|            0|            0|       525708| 2022-04-30| 2022-05-01|      1| 83.33333333333334|        TV|            TV|\n",
      "|     AGAAA0848|     12141|            0|            0|            0|            0|        12141| 2022-04-29| 2022-05-01|      2| 83.33333333333334|        TV|            TV|\n",
      "|     AGAAA0885|    354499|            0|            0|            0|            0|       354499| 2022-04-30| 2022-05-01|      1| 66.66666666666666|        TV|            TV|\n",
      "|     AGAAA0886|     39163|            0|            0|            0|            0|        39163| 2022-04-28| 2022-05-01|      3|46.666666666666664|        TV|            TV|\n",
      "|     AGAAA0901|    796083|            0|            0|            0|            0|       796083| 2022-04-30| 2022-05-01|      1|             100.0|        TV|            TV|\n",
      "|     AGAAA1004|     58329|            0|            0|            0|            0|        58329| 2022-04-30| 2022-05-01|      1| 83.33333333333334|        TV|            TV|\n",
      "|     AGAAA1047|    305816|        53227|            0|            0|            0|       359043| 2022-04-30| 2022-05-01|      1|             100.0|        TV|      TV Movie|\n",
      "|     AGAAA1147|   1299590|            0|          103|            0|            0|      1299693| 2022-04-29| 2022-05-01|      2| 76.66666666666667|        TV|      TV Relax|\n",
      "|     AGAAA1218|    132794|            0|            0|            0|            0|       132794| 2022-04-30| 2022-05-01|      1|              30.0|        TV|            TV|\n",
      "+--------------+----------+-------------+-------------+-------------+-------------+-------------+-----------+-----------+-------+------------------+----------+--------------+\n",
      "only showing top 20 rows\n",
      "\n"
     ]
    }
   ],
   "source": [
    "df.show()"
   ]
  },
  {
   "cell_type": "code",
   "execution_count": 7,
   "metadata": {},
   "outputs": [
    {
     "name": "stdout",
     "output_type": "stream",
     "text": [
      "root\n",
      " |-- Contract: string (nullable = true)\n",
      " |-- TVDuration: string (nullable = true)\n",
      " |-- MovieDuration: string (nullable = true)\n",
      " |-- RelaxDuration: string (nullable = true)\n",
      " |-- ChildDuration: string (nullable = true)\n",
      " |-- SportDuration: string (nullable = true)\n",
      " |-- TotalDuration: string (nullable = true)\n",
      " |-- latest_date: string (nullable = true)\n",
      " |-- report_date: string (nullable = true)\n",
      " |-- recency: string (nullable = true)\n",
      " |-- active_rate: string (nullable = true)\n",
      " |-- most_watch: string (nullable = true)\n",
      " |-- taste: string (nullable = true)\n",
      "\n"
     ]
    }
   ],
   "source": [
    "df.printSchema()"
   ]
  },
  {
   "cell_type": "code",
   "execution_count": 8,
   "metadata": {},
   "outputs": [],
   "source": [
    "df.write.format('jdbc').option('url',url).option('driver',driver).option('dbtable','behavior').option('user',user).option('password',password).mode('overwrite').save()"
   ]
  },
  {
   "cell_type": "code",
   "execution_count": 10,
   "metadata": {},
   "outputs": [],
   "source": [
    "df = spark.read.format('jdbc').options(url = url , driver = driver , dbtable = sql , user=user , password = password).load()"
   ]
  },
  {
   "cell_type": "code",
   "execution_count": 11,
   "metadata": {},
   "outputs": [
    {
     "name": "stdout",
     "output_type": "stream",
     "text": [
      "+--------------+----------+-------------+-------------+-------------+-------------+-------------+-----------+-----------+-------+------------------+----------+--------------+\n",
      "|      Contract|TVDuration|MovieDuration|RelaxDuration|ChildDuration|SportDuration|TotalDuration|latest_date|report_date|recency|       active_rate|most_watch|         taste|\n",
      "+--------------+----------+-------------+-------------+-------------+-------------+-------------+-----------+-----------+-------+------------------+----------+--------------+\n",
      "|     HNH911633|   1675683|         2420|            0|            0|            0|      1678103| 2022-04-30| 2022-05-01|      1|             100.0|        TV|      TV Movie|\n",
      "|113.182.209.48|        63|            0|           89|            0|            0|          152| 2022-04-01| 2022-05-01|     30|3.3333333333333335|     Relax|      TV Relax|\n",
      "|     DAFD48143|    987779|        26216|       263341|            0|            0|      1277336| 2022-04-30| 2022-05-01|      1|             100.0|        TV|TV Movie Relax|\n",
      "|     HNH911706|    563860|         2009|            0|            0|            0|       565869| 2022-04-30| 2022-05-01|      1|             100.0|        TV|      TV Movie|\n",
      "|     HNH911841|   1174709|            0|            0|            0|            0|      1174709| 2022-04-30| 2022-05-01|      1|             100.0|        TV|            TV|\n",
      "|     HNH911873|    407846|            0|            0|            0|            0|       407846| 2022-04-30| 2022-05-01|      1|             100.0|        TV|            TV|\n",
      "|     HNH911933|     42748|            0|            0|            0|            0|        42748| 2022-04-29| 2022-05-01|      2|16.666666666666664|        TV|            TV|\n",
      "|     HNH911941|    128480|            0|            0|            0|            0|       128480| 2022-04-29| 2022-05-01|      2| 93.33333333333333|        TV|            TV|\n",
      "|     HNH912138|    211005|            0|            0|            0|            0|       211005| 2022-04-30| 2022-05-01|      1|             100.0|        TV|            TV|\n",
      "|     HNH912140|    331614|        10410|            0|            0|          575|       342599| 2022-04-30| 2022-05-01|      1|             100.0|        TV|TV Movie Sport|\n",
      "|     HNH912149|     68683|            0|            0|            0|            0|        68683| 2022-04-30| 2022-05-01|      1|13.333333333333334|        TV|            TV|\n",
      "|     HNH912260|     45446|        24996|         3045|            0|            0|        73487| 2022-04-30| 2022-05-01|      1|             100.0|        TV|TV Movie Relax|\n",
      "|     HNH912269|    133714|            0|            0|            0|            0|       133714| 2022-04-29| 2022-05-01|      2| 86.66666666666667|        TV|            TV|\n",
      "|     HNH912318|     81529|            0|            0|            0|            0|        81529| 2022-04-30| 2022-05-01|      1|              60.0|        TV|            TV|\n",
      "|     HNH912382|    182957|            0|            0|            0|            0|       182957| 2022-04-30| 2022-05-01|      1| 76.66666666666667|        TV|            TV|\n",
      "|     HNH912490|     14370|            0|            0|            0|            0|        14370| 2022-04-25| 2022-05-01|      6|23.333333333333332|        TV|            TV|\n",
      "|     HNH912649|       224|            0|            0|            0|            0|          224| 2022-04-21| 2022-05-01|     10|3.3333333333333335|        TV|            TV|\n",
      "|     HNH912653|    145273|            0|            0|            0|            0|       145273| 2022-04-30| 2022-05-01|      1| 83.33333333333334|        TV|            TV|\n",
      "|     HNH912711|      9356|            0|            0|            0|            0|         9356| 2022-04-29| 2022-05-01|      2|53.333333333333336|        TV|            TV|\n",
      "|     HNH912750|    270355|            0|            0|            0|            0|       270355| 2022-04-30| 2022-05-01|      1|             100.0|        TV|            TV|\n",
      "+--------------+----------+-------------+-------------+-------------+-------------+-------------+-----------+-----------+-------+------------------+----------+--------------+\n",
      "only showing top 20 rows\n",
      "\n"
     ]
    }
   ],
   "source": [
    "df.show()"
   ]
  },
  {
   "cell_type": "code",
   "execution_count": null,
   "metadata": {},
   "outputs": [],
   "source": []
  }
 ],
 "metadata": {
  "interpreter": {
   "hash": "2ccb01cee79baa4fd3c3af014ac321d0f97006058e5ad97497401216ebeb6b54"
  },
  "kernelspec": {
   "display_name": "Python 3.11.4 64-bit",
   "name": "python3"
  },
  "language_info": {
   "codemirror_mode": {
    "name": "ipython",
    "version": 3
   },
   "file_extension": ".py",
   "mimetype": "text/x-python",
   "name": "python",
   "nbconvert_exporter": "python",
   "pygments_lexer": "ipython3",
   "version": "3.11.4"
  },
  "orig_nbformat": 4
 },
 "nbformat": 4,
 "nbformat_minor": 2
}