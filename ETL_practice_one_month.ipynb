{
 "cells": [
  {
   "cell_type": "code",
   "execution_count": 2,
   "metadata": {},
   "outputs": [],
   "source": [
    "from pyspark.sql.session import SparkSession\r\n",
    "from pyspark.sql.functions import *\r\n",
    "from pyspark.sql.window import Window\r\n",
    "from datetime import date\r\n"
   ]
  },
  {
   "cell_type": "code",
   "execution_count": 3,
   "metadata": {},
   "outputs": [],
   "source": [
    "def get_spark_session():    \r\n",
    "    spark = SparkSession.builder\\\r\n",
    "                        .config('spark.driver.memory', '4g')\\\r\n",
    "                        .config('spark.driver.cores', '2')\\\r\n",
    "                        .config('spark.executor.memory', '4g')\\\r\n",
    "                        .config('spark.executor.cores', '2')\\\r\n",
    "                        .getOrCreate()\r\n",
    "    return spark\r\n",
    "\r\n",
    "spark = get_spark_session()"
   ]
  },
  {
   "cell_type": "code",
   "execution_count": 6,
   "metadata": {},
   "outputs": [],
   "source": [
    "path = 'D:\\DE-class\\data\\log_content'\r\n",
    "save_path = 'D:\\DE-class\\projects\\ETL_practice\\Output_Data'\r\n",
    "file = '.json'\r\n",
    "start_date = '2022-04-01'\r\n",
    "end_date = '2022-04-30'\r\n",
    "report_date = '2022051'"
   ]
  },
  {
   "cell_type": "code",
   "execution_count": 7,
   "metadata": {},
   "outputs": [],
   "source": [
    "def etl_1_day(path ,file_name):\r\n",
    "  df = spark.read.json(path+file_name)\r\n",
    "  source_df = df.select('_source.*')\r\n",
    "  source_df = source_df.withColumn(\"Type\",\r\n",
    "           when((col(\"AppName\") == 'CHANNEL') | (col(\"AppName\") =='KPLUS') | (col(\"AppName\") =='KPlus'), \"Truyền Hình\")\r\n",
    "          .when((col(\"AppName\") == 'VOD') | (col(\"AppName\") =='FIMS'), \"Phim Truyện\")\r\n",
    "          .when((col(\"AppName\") == 'RELAX'), \"Giải Trí\")\r\n",
    "          .when((col(\"AppName\") == 'CHILD'), \"Thiếu Nhi\")\r\n",
    "          .when((col(\"AppName\") == 'SPORT'), \"Thể Thao\")\r\n",
    "          .otherwise(\"Error\"))\r\n",
    "  source_df = source_df.select('Contract','Type','TotalDuration')\r\n",
    "  source_df = source_df.filter(col('Contract') != '0')\r\n",
    "  source_df = source_df.filter(source_df.Type != 'Error')\r\n",
    "  source_df = source_df.groupBy('Contract','Type').sum('TotalDuration').withColumnRenamed('sum(TotalDuration)','TotalDuration')\r\n",
    "\r\n",
    "  pivotDF = source_df.groupBy(\"Contract\").pivot(\"Type\").sum(\"TotalDuration\")\\\r\n",
    "    .withColumnRenamed(\"Truyền Hình\", 'TVDuration')\\\r\n",
    "    .withColumnRenamed(\"Thể Thao\", 'SportDuration')\\\r\n",
    "    .withColumnRenamed(\"Thiếu Nhi\", 'ChildDuration')\\\r\n",
    "    .withColumnRenamed(\"Giải Trí\", 'RelaxDuration')\\\r\n",
    "    .withColumnRenamed(\"Phim Truyện\", 'MovieDuration')\r\n",
    "\r\n",
    "  result = pivotDF.fillna(0)\r\n",
    "  \r\n",
    "  # file name \\20220401.json\r\n",
    "  result = result.withColumn('strDate', lit(file_name.split('.')[0].replace('\\\\', ''))).withColumn('Date', to_date('strDate', 'yyyyMMdd'))\r\n",
    "  result = result.drop('strDate')\r\n",
    "\r\n",
    "  return result"
   ]
  },
  {
   "cell_type": "code",
   "execution_count": 8,
   "metadata": {},
   "outputs": [],
   "source": [
    "def most_watch(df):\r\n",
    "  df = df.select('Contract', 'TotalDuration', 'TVDuration', 'MovieDuration', 'RelaxDuration', 'ChildDuration', 'SportDuration', 'latest_date',\\\r\n",
    "     greatest('TVDuration', 'MovieDuration', 'RelaxDuration', 'ChildDuration', 'SportDuration').alias('most_watch'))\r\n",
    "  df = df.withColumn('most_watch', when(col('TVDuration') == col('most_watch'), 'TV')\r\n",
    "                                  .when(col('MovieDuration') == col('most_watch'), 'Movie')\r\n",
    "                                  .when(col('RelaxDuration') == col('most_watch'), 'Relax')\r\n",
    "                                  .when(col('ChildDuration') == col('most_watch'), 'Child')\r\n",
    "                                  .when(col('SportDuration') == col('most_watch'), 'Sport'))\r\n",
    "  return df"
   ]
  },
  {
   "cell_type": "code",
   "execution_count": 9,
   "metadata": {},
   "outputs": [],
   "source": [
    "def customer_taste(df):\r\n",
    "  df = df.withColumn(\"TV\", when(col('TVDuration') != 0, ' TV').otherwise('')) \\\r\n",
    "       .withColumn(\"Movie\", when(col('MovieDuration') != 0, ' Movie').otherwise('')) \\\r\n",
    "       .withColumn(\"Relax\", when(col('RelaxDuration') != 0, ' Relax').otherwise('')) \\\r\n",
    "       .withColumn(\"Child\", when(col('ChildDuration') != 0, ' Child').otherwise('')) \\\r\n",
    "       .withColumn(\"Sport\", when(col('SportDuration') != 0, ' Sport').otherwise('')).withColumn('taste' ,concat(col('TV'), col('Movie'), col('Relax'), col('Child'), col('Sport')))\r\n",
    "  return df.select('Contract', 'TotalDuration', 'TVDuration', 'MovieDuration', 'RelaxDuration', 'ChildDuration', 'SportDuration', 'most_watch', 'taste', 'latest_date')"
   ]
  },
  {
   "cell_type": "code",
   "execution_count": 10,
   "metadata": {},
   "outputs": [
    {
     "name": "stdout",
     "output_type": "stream",
     "text": [
      "Finished Processing \\20220401.json\n",
      "Finished Processing \\20220402.json\n",
      "Finished Processing \\20220403.json\n",
      "Finished Processing \\20220404.json\n",
      "Finished Processing \\20220405.json\n",
      "Finished Processing \\20220406.json\n",
      "Finished Processing \\20220407.json\n",
      "Finished Processing \\20220408.json\n",
      "Finished Processing \\20220409.json\n",
      "Finished Processing \\20220410.json\n",
      "Finished Processing \\20220411.json\n",
      "Finished Processing \\20220412.json\n",
      "Finished Processing \\20220413.json\n",
      "Finished Processing \\20220414.json\n",
      "Finished Processing \\20220415.json\n",
      "Finished Processing \\20220416.json\n",
      "Finished Processing \\20220417.json\n",
      "Finished Processing \\20220418.json\n",
      "Finished Processing \\20220419.json\n",
      "Finished Processing \\20220420.json\n",
      "Finished Processing \\20220421.json\n",
      "Finished Processing \\20220422.json\n",
      "Finished Processing \\20220423.json\n",
      "Finished Processing \\20220424.json\n",
      "Finished Processing \\20220425.json\n",
      "Finished Processing \\20220426.json\n",
      "Finished Processing \\20220427.json\n",
      "Finished Processing \\20220428.json\n",
      "Finished Processing \\20220429.json\n",
      "Finished Processing \\20220430.json\n"
     ]
    }
   ],
   "source": [
    "def main_task():\r\n",
    "    sy, sm, sd = map(int, start_date.split('-'))\r\n",
    "    ey, em, ed = map(int, end_date.split('-'))\r\n",
    "    file_name = '\\\\' + date(sy,sm,sd).strftime('%Y%m%d') + file\r\n",
    "    result1 = etl_1_day(path ,file_name)\r\n",
    "    active = spark.read.json(path+file_name).select('_source.Contract').distinct()\r\n",
    "    print('Finished Processing {}'.format(file_name))\r\n",
    "    for i in range(sd+1, ed+1):\r\n",
    "        file_name2 = '\\\\' + date(sy,sm,i).strftime('%Y%m%d') + file\r\n",
    "        result2 = etl_1_day(path ,file_name2)\r\n",
    "        result1 = result1.union(result2)\r\n",
    "        result1 = result1.cache()\r\n",
    "        active = active.union(spark.read.json(path+file_name2).select('_source.Contract').distinct())\r\n",
    "        print('Finished Processing {}'.format(file_name2))\r\n",
    "\r\n",
    "    active = active.groupby('Contract').agg(count('Contract').alias('frequency'))\r\n",
    "    result1 = result1.groupby('Contract').agg(sum('TVDuration').alias(\"TVDuration\"),\\\r\n",
    "         sum('MovieDuration').alias(\"MovieDuration\"), sum('RelaxDuration').alias(\"RelaxDuration\"),\\\r\n",
    "              sum('ChildDuration').alias(\"ChildDuration\"), sum('SportDuration').alias(\"SportDuration\"), max('Date').alias('latest_date'))\r\n",
    "              \r\n",
    "    # create total duration value \r\n",
    "    windowSpecAgg  = Window.partitionBy('Contract')\r\n",
    "    result1 = result1.withColumn('TotalDuration',\\\r\n",
    "         sum(col('TVDuration') + col('SportDuration') + col('ChildDuration') + col('RelaxDuration') + col('MovieDuration'))\\\r\n",
    "        .over(windowSpecAgg))\r\n",
    "\r\n",
    "    # add most watch column\r\n",
    "    result1 = most_watch(result1)\r\n",
    "    # add taste column\r\n",
    "    result1 = customer_taste(result1)\r\n",
    "\r\n",
    "    result1 = result1.join(active, on=\"Contract\", how=\"left\").withColumn('active_rate', col('frequency').cast('int') / ed * 100)\\\r\n",
    "        .withColumn('rp_date', lit('20220501'))\\\r\n",
    "            .withColumn('report_date', to_date('rp_date', 'yyyyMMdd'))\r\n",
    "\r\n",
    "    result1 = result1.withColumn('recency', datediff(col('report_date'), col(\"latest_date\")))\r\n",
    "\r\n",
    "    # windowSpec = Window.orderBy(\"TotalDuration\")\r\n",
    "    # result1 = result1.withColumn(\"duration_percentile\", percent_rank().over(windowSpec))\r\n",
    "    \r\n",
    "    result1 = result1.select('Contract', 'TVDuration', 'MovieDuration', 'RelaxDuration', 'ChildDuration', 'SportDuration', 'TotalDuration',\\\r\n",
    "         'latest_date', 'report_date', 'recency', 'active_rate', 'most_watch', 'taste')\r\n",
    "    result1.repartition(1).write.csv(save_path,header=True)\r\n",
    "\r\n",
    "    return result1\r\n",
    "\r\n",
    "output = main_task()"
   ]
  },
  {
   "cell_type": "code",
   "execution_count": 11,
   "metadata": {},
   "outputs": [
    {
     "data": {
      "text/plain": [
       "1920545"
      ]
     },
     "execution_count": 11,
     "metadata": {},
     "output_type": "execute_result"
    }
   ],
   "source": [
    "output.count()"
   ]
  },
  {
   "cell_type": "code",
   "execution_count": 4,
   "metadata": {},
   "outputs": [
    {
     "name": "stdout",
     "output_type": "stream",
     "text": [
      "+--------------+----------+-------------+-------------+-------------+-------------+-------------+-----------+-----------+-------+------------------+----------+--------------+\n",
      "|      Contract|TVDuration|MovieDuration|RelaxDuration|ChildDuration|SportDuration|TotalDuration|latest_date|report_date|recency|       active_rate|most_watch|         taste|\n",
      "+--------------+----------+-------------+-------------+-------------+-------------+-------------+-----------+-----------+-------+------------------+----------+--------------+\n",
      "|113.182.209.48|        63|            0|           89|            0|            0|          152| 2022-04-01| 2022-05-01|     30|3.3333333333333335|     Relax|      TV Relax|\n",
      "|14.182.110.125|       404|            0|           92|            0|            0|          496| 2022-04-10| 2022-05-01|     21|3.3333333333333335|        TV|      TV Relax|\n",
      "|     AGAAA0338|    278633|            0|            0|            0|            0|       278633| 2022-04-30| 2022-05-01|      1|             100.0|        TV|            TV|\n",
      "|     AGAAA0342|    117788|            0|          204|            0|            0|       117992| 2022-04-30| 2022-05-01|      1|              40.0|        TV|      TV Relax|\n",
      "|     AGAAA0391|    158931|          129|          373|            0|            0|       159433| 2022-04-30| 2022-05-01|      1|36.666666666666664|        TV|TV Movie Relax|\n",
      "|     AGAAA0613|      9377|            0|           26|            0|            0|         9403| 2022-04-30| 2022-05-01|      1|              80.0|        TV|      TV Relax|\n",
      "|     AGAAA0638|    227016|            0|            0|            0|            0|       227016| 2022-04-30| 2022-05-01|      1|             100.0|        TV|            TV|\n",
      "|     AGAAA0692|    107057|            0|            0|            0|            0|       107057| 2022-04-29| 2022-05-01|      2|26.666666666666668|        TV|            TV|\n",
      "|     AGAAA0723|      9279|            0|            0|            0|            0|         9279| 2022-04-29| 2022-05-01|      2| 63.33333333333333|        TV|            TV|\n",
      "|     AGAAA0729|    161781|            0|            0|            0|            0|       161781| 2022-04-15| 2022-05-01|     16|              10.0|        TV|            TV|\n",
      "|     AGAAA0732|     99030|          463|            0|            0|            0|        99493| 2022-04-28| 2022-05-01|      3| 76.66666666666667|        TV|      TV Movie|\n",
      "|     AGAAA0750|    525708|            0|            0|            0|            0|       525708| 2022-04-30| 2022-05-01|      1| 83.33333333333334|        TV|            TV|\n",
      "|     AGAAA0848|     12141|            0|            0|            0|            0|        12141| 2022-04-29| 2022-05-01|      2| 83.33333333333334|        TV|            TV|\n",
      "|     AGAAA0885|    354499|            0|            0|            0|            0|       354499| 2022-04-30| 2022-05-01|      1| 66.66666666666666|        TV|            TV|\n",
      "|     AGAAA0886|     39163|            0|            0|            0|            0|        39163| 2022-04-28| 2022-05-01|      3|46.666666666666664|        TV|            TV|\n",
      "|     AGAAA0901|    796083|            0|            0|            0|            0|       796083| 2022-04-30| 2022-05-01|      1|             100.0|        TV|            TV|\n",
      "|     AGAAA1004|     58329|            0|            0|            0|            0|        58329| 2022-04-30| 2022-05-01|      1| 83.33333333333334|        TV|            TV|\n",
      "|     AGAAA1047|    305816|        53227|            0|            0|            0|       359043| 2022-04-30| 2022-05-01|      1|             100.0|        TV|      TV Movie|\n",
      "|     AGAAA1147|   1299590|            0|          103|            0|            0|      1299693| 2022-04-29| 2022-05-01|      2| 76.66666666666667|        TV|      TV Relax|\n",
      "|     AGAAA1218|    132794|            0|            0|            0|            0|       132794| 2022-04-30| 2022-05-01|      1|              30.0|        TV|            TV|\n",
      "+--------------+----------+-------------+-------------+-------------+-------------+-------------+-----------+-----------+-------+------------------+----------+--------------+\n",
      "only showing top 20 rows\n",
      "\n"
     ]
    }
   ],
   "source": [
    "output.show()"
   ]
  },
  {
   "cell_type": "code",
   "execution_count": 13,
   "metadata": {},
   "outputs": [
    {
     "name": "stdout",
     "output_type": "stream",
     "text": [
      "root\n",
      " |-- Contract: string (nullable = true)\n",
      " |-- TVDuration: long (nullable = true)\n",
      " |-- MovieDuration: long (nullable = true)\n",
      " |-- RelaxDuration: long (nullable = true)\n",
      " |-- ChildDuration: long (nullable = true)\n",
      " |-- SportDuration: long (nullable = true)\n",
      " |-- TotalDuration: long (nullable = true)\n",
      " |-- latest_date: date (nullable = true)\n",
      " |-- report_date: date (nullable = true)\n",
      " |-- recency: integer (nullable = true)\n",
      " |-- active_rate: double (nullable = true)\n",
      " |-- most_watch: string (nullable = true)\n",
      " |-- taste: string (nullable = false)\n",
      "\n"
     ]
    }
   ],
   "source": [
    "output.printSchema()"
   ]
  }
 ],
 "metadata": {
  "interpreter": {
   "hash": "2ccb01cee79baa4fd3c3af014ac321d0f97006058e5ad97497401216ebeb6b54"
  },
  "kernelspec": {
   "display_name": "Python 3.11.4 64-bit",
   "name": "python3"
  },
  "language_info": {
   "codemirror_mode": {
    "name": "ipython",
    "version": 3
   },
   "file_extension": ".py",
   "mimetype": "text/x-python",
   "name": "python",
   "nbconvert_exporter": "python",
   "pygments_lexer": "ipython3",
   "version": "3.11.4"
  },
  "orig_nbformat": 4
 },
 "nbformat": 4,
 "nbformat_minor": 2
}